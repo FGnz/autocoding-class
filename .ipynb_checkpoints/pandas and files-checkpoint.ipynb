{
 "metadata": {
  "name": "",
  "signature": "sha256:8a4475918bfa3fabaf2b8a51d4c39b97cbbc5140ef6a6ba931159670794836bc"
 },
 "nbformat": 3,
 "nbformat_minor": 0,
 "worksheets": [
  {
   "cells": [
    {
     "cell_type": "heading",
     "level": 1,
     "metadata": {},
     "source": [
      "Pandas and Files\n",
      "\n",
      "\n"
     ]
    },
    {
     "cell_type": "markdown",
     "metadata": {},
     "source": [
      "<align=\"left\">We will use a Python package called \"pandas\" for most of our file manipulations in this class. Pandas does a lot of important things, most importantly it gives us the DataFrame object which gives us a very useful Python representation of of tabular (table-like) data. By convention, \"pandas\" is typically imported under the alias \"pd\" so that less typing is needed to reference it. To import pandas under the alias \"pd\": "
     ]
    },
    {
     "cell_type": "code",
     "collapsed": false,
     "input": [
      "import pandas as pd"
     ],
     "language": "python",
     "metadata": {},
     "outputs": [],
     "prompt_number": 119
    },
    {
     "cell_type": "markdown",
     "metadata": {},
     "source": [
      "# Creating a DataFrame from a file\n",
      "<align=\"left\">In the examples below we will be working with the following files with I have downloaded to the <i>C:\\Users\\measure_a\\Downloads</i> directory of my computer:\n",
      "* [msha.csv](https://www.dropbox.com/s/nffyygpz243xjwt/msha.csv)\n",
      "* [msha.txt](https://www.dropbox.com/s/a11hwwp8qtqfdmz/msha.txt)\n",
      "* [msha.xlsx](https://www.dropbox.com/s/schtzyzbelc4x1c/msha.xlsx)\n",
      "\n",
      "You can also create DataFrames from lists of dictionaries and SQL queries to databases."
     ]
    },
    {
     "cell_type": "code",
     "collapsed": false,
     "input": [
      "# To read a csv file into a dataframe\n",
      "df = pd.read_csv(r'C:\\Users\\measure_a\\Downloads\\msha.csv')\n",
      "\n",
      "# To read a file with an arbitrary column separator into a dataframe\n",
      "# Note: in this case separator is the tab character (represented by \"\\t\"). \n",
      "df = pd.read_csv(r'C:\\Users\\measure_a\\Downloads\\msha.txt', sep=\"\\t\")\n",
      "\n",
      "# To read an xls files into a dataframe\n",
      "df = pd.read_excel(r'C:\\Users\\measure_a\\Downloads\\msha.xlsx')"
     ],
     "language": "python",
     "metadata": {},
     "outputs": [],
     "prompt_number": 120
    },
    {
     "cell_type": "markdown",
     "metadata": {},
     "source": [
      "# Inspecting a DataFrame\n",
      "The first thing you should do after loading a DataFrame is to inspect it to verify that it was loaded correctly. One quick way to do this is to check the first few rows of our dataframe with the df.head() method."
     ]
    },
    {
     "cell_type": "code",
     "collapsed": false,
     "input": [
      "df.head()"
     ],
     "language": "python",
     "metadata": {},
     "outputs": [
      {
       "html": [
        "<div style=\"max-height:1000px;max-width:1500px;overflow:auto;\">\n",
        "<table border=\"1\" class=\"dataframe\">\n",
        "  <thead>\n",
        "    <tr style=\"text-align: right;\">\n",
        "      <th></th>\n",
        "      <th>ACCIDENT_DT</th>\n",
        "      <th>FIPS_STATE_CD</th>\n",
        "      <th>INJ_BODY_PART</th>\n",
        "      <th>INJ_BODY_PART_CD</th>\n",
        "      <th>MINE_ID</th>\n",
        "      <th>NARRATIVE</th>\n",
        "    </tr>\n",
        "  </thead>\n",
        "  <tbody>\n",
        "    <tr>\n",
        "      <th>0</th>\n",
        "      <td>2010-08-10</td>\n",
        "      <td>  8</td>\n",
        "      <td> SHOULDERS (COLLARBONE/CLAVICLE/SCAPULA)</td>\n",
        "      <td> 450</td>\n",
        "      <td>  503800</td>\n",
        "      <td> Cleaning out Gabion Grizzly,  Rocks get Jammed...</td>\n",
        "    </tr>\n",
        "    <tr>\n",
        "      <th>1</th>\n",
        "      <td>2010-06-09</td>\n",
        "      <td> 36</td>\n",
        "      <td> SHOULDERS (COLLARBONE/CLAVICLE/SCAPULA)</td>\n",
        "      <td> 450</td>\n",
        "      <td>  600026</td>\n",
        "      <td> Injured was walking in the pit area, stepped o...</td>\n",
        "    </tr>\n",
        "    <tr>\n",
        "      <th>2</th>\n",
        "      <td>2012-08-20</td>\n",
        "      <td> 24</td>\n",
        "      <td>   HIPS (PELVIS/ORGANS/KIDNEYS/BUTTOCKS)</td>\n",
        "      <td> 440</td>\n",
        "      <td> 1800761</td>\n",
        "      <td> Employee, parked s/c on grade at 16-Block #3 E...</td>\n",
        "    </tr>\n",
        "    <tr>\n",
        "      <th>3</th>\n",
        "      <td>2013-10-29</td>\n",
        "      <td>  4</td>\n",
        "      <td>                                   ANKLE</td>\n",
        "      <td> 520</td>\n",
        "      <td>  200024</td>\n",
        "      <td> Contractor employee working as a carpenter mis...</td>\n",
        "    </tr>\n",
        "    <tr>\n",
        "      <th>4</th>\n",
        "      <td>2011-11-19</td>\n",
        "      <td> 32</td>\n",
        "      <td>                         FINGER(S)/THUMB</td>\n",
        "      <td> 340</td>\n",
        "      <td> 2602512</td>\n",
        "      <td> The employee's finger was pinched between the ...</td>\n",
        "    </tr>\n",
        "  </tbody>\n",
        "</table>\n",
        "</div>"
       ],
       "metadata": {},
       "output_type": "pyout",
       "prompt_number": 121,
       "text": [
        "  ACCIDENT_DT  FIPS_STATE_CD                            INJ_BODY_PART  \\\n",
        "0  2010-08-10              8  SHOULDERS (COLLARBONE/CLAVICLE/SCAPULA)   \n",
        "1  2010-06-09             36  SHOULDERS (COLLARBONE/CLAVICLE/SCAPULA)   \n",
        "2  2012-08-20             24    HIPS (PELVIS/ORGANS/KIDNEYS/BUTTOCKS)   \n",
        "3  2013-10-29              4                                    ANKLE   \n",
        "4  2011-11-19             32                          FINGER(S)/THUMB   \n",
        "\n",
        "   INJ_BODY_PART_CD  MINE_ID  \\\n",
        "0               450   503800   \n",
        "1               450   600026   \n",
        "2               440  1800761   \n",
        "3               520   200024   \n",
        "4               340  2602512   \n",
        "\n",
        "                                           NARRATIVE  \n",
        "0  Cleaning out Gabion Grizzly,  Rocks get Jammed...  \n",
        "1  Injured was walking in the pit area, stepped o...  \n",
        "2  Employee, parked s/c on grade at 16-Block #3 E...  \n",
        "3  Contractor employee working as a carpenter mis...  \n",
        "4  The employee's finger was pinched between the ...  "
       ]
      }
     ],
     "prompt_number": 121
    },
    {
     "cell_type": "markdown",
     "metadata": {},
     "source": [
      "We can also check the last few rows of the file with df.tail()"
     ]
    },
    {
     "cell_type": "code",
     "collapsed": false,
     "input": [
      "df.tail()"
     ],
     "language": "python",
     "metadata": {},
     "outputs": [
      {
       "html": [
        "<div style=\"max-height:1000px;max-width:1500px;overflow:auto;\">\n",
        "<table border=\"1\" class=\"dataframe\">\n",
        "  <thead>\n",
        "    <tr style=\"text-align: right;\">\n",
        "      <th></th>\n",
        "      <th>ACCIDENT_DT</th>\n",
        "      <th>FIPS_STATE_CD</th>\n",
        "      <th>INJ_BODY_PART</th>\n",
        "      <th>INJ_BODY_PART_CD</th>\n",
        "      <th>MINE_ID</th>\n",
        "      <th>NARRATIVE</th>\n",
        "    </tr>\n",
        "  </thead>\n",
        "  <tbody>\n",
        "    <tr>\n",
        "      <th>41030</th>\n",
        "      <td>2010-03-01</td>\n",
        "      <td> 35</td>\n",
        "      <td>                         FINGER(S)/THUMB</td>\n",
        "      <td> 340</td>\n",
        "      <td> 2900159</td>\n",
        "      <td> EE was trying to loosen a bolt to remove the l...</td>\n",
        "    </tr>\n",
        "    <tr>\n",
        "      <th>41031</th>\n",
        "      <td>2012-01-10</td>\n",
        "      <td>  8</td>\n",
        "      <td>                         FINGER(S)/THUMB</td>\n",
        "      <td> 340</td>\n",
        "      <td>  504674</td>\n",
        "      <td> Moving 24-10 915 Eimco out of surface diesel s...</td>\n",
        "    </tr>\n",
        "    <tr>\n",
        "      <th>41032</th>\n",
        "      <td>2013-04-02</td>\n",
        "      <td> 32</td>\n",
        "      <td>    CHEST (RIBS/BREAST BONE/CHEST ORGNS)</td>\n",
        "      <td> 430</td>\n",
        "      <td>  200843</td>\n",
        "      <td> Employee was washing out the ball chip collect...</td>\n",
        "    </tr>\n",
        "    <tr>\n",
        "      <th>41033</th>\n",
        "      <td>2011-12-04</td>\n",
        "      <td> 32</td>\n",
        "      <td> SHOULDERS (COLLARBONE/CLAVICLE/SCAPULA)</td>\n",
        "      <td> 450</td>\n",
        "      <td> 2602302</td>\n",
        "      <td> Miner was scaling frozen mud from agglomerator...</td>\n",
        "    </tr>\n",
        "    <tr>\n",
        "      <th>41034</th>\n",
        "      <td>2012-07-16</td>\n",
        "      <td>  4</td>\n",
        "      <td>                         FINGER(S)/THUMB</td>\n",
        "      <td> 340</td>\n",
        "      <td>  203131</td>\n",
        "      <td> Employee got out of SEC-07 Pickup and inattent...</td>\n",
        "    </tr>\n",
        "  </tbody>\n",
        "</table>\n",
        "</div>"
       ],
       "metadata": {},
       "output_type": "pyout",
       "prompt_number": 122,
       "text": [
        "      ACCIDENT_DT  FIPS_STATE_CD                            INJ_BODY_PART  \\\n",
        "41030  2010-03-01             35                          FINGER(S)/THUMB   \n",
        "41031  2012-01-10              8                          FINGER(S)/THUMB   \n",
        "41032  2013-04-02             32     CHEST (RIBS/BREAST BONE/CHEST ORGNS)   \n",
        "41033  2011-12-04             32  SHOULDERS (COLLARBONE/CLAVICLE/SCAPULA)   \n",
        "41034  2012-07-16              4                          FINGER(S)/THUMB   \n",
        "\n",
        "       INJ_BODY_PART_CD  MINE_ID  \\\n",
        "41030               340  2900159   \n",
        "41031               340   504674   \n",
        "41032               430   200843   \n",
        "41033               450  2602302   \n",
        "41034               340   203131   \n",
        "\n",
        "                                               NARRATIVE  \n",
        "41030  EE was trying to loosen a bolt to remove the l...  \n",
        "41031  Moving 24-10 915 Eimco out of surface diesel s...  \n",
        "41032  Employee was washing out the ball chip collect...  \n",
        "41033  Miner was scaling frozen mud from agglomerator...  \n",
        "41034  Employee got out of SEC-07 Pickup and inattent...  "
       ]
      }
     ],
     "prompt_number": 122
    },
    {
     "cell_type": "markdown",
     "metadata": {},
     "source": [
      "Finally, we can check the number of rows in our dataframe using the built-in Python function len(). Here we see the dataframe contains 41,035 rows."
     ]
    },
    {
     "cell_type": "code",
     "collapsed": false,
     "input": [
      "len(df)"
     ],
     "language": "python",
     "metadata": {},
     "outputs": [
      {
       "metadata": {},
       "output_type": "pyout",
       "prompt_number": 123,
       "text": [
        "41035"
       ]
      }
     ],
     "prompt_number": 123
    },
    {
     "cell_type": "markdown",
     "metadata": {},
     "source": [
      "# Adding a unique ID\n",
      "\n",
      "Before we go much further, let's add a column that uniquely identifies each of these cases. One way to do this is as follows."
     ]
    },
    {
     "cell_type": "code",
     "collapsed": false,
     "input": [
      "# Create a list of unique ID's that is as long as the number of rows in our dataframe\n",
      "ids = range(len(df))\n",
      "\n",
      "# Create a new column called 'UNIQUE_ID' which will hold this list\n",
      "df['UNIQUE_ID'] = ids\n",
      "df.tail()"
     ],
     "language": "python",
     "metadata": {},
     "outputs": [
      {
       "html": [
        "<div style=\"max-height:1000px;max-width:1500px;overflow:auto;\">\n",
        "<table border=\"1\" class=\"dataframe\">\n",
        "  <thead>\n",
        "    <tr style=\"text-align: right;\">\n",
        "      <th></th>\n",
        "      <th>ACCIDENT_DT</th>\n",
        "      <th>FIPS_STATE_CD</th>\n",
        "      <th>INJ_BODY_PART</th>\n",
        "      <th>INJ_BODY_PART_CD</th>\n",
        "      <th>MINE_ID</th>\n",
        "      <th>NARRATIVE</th>\n",
        "      <th>UNIQUE_ID</th>\n",
        "    </tr>\n",
        "  </thead>\n",
        "  <tbody>\n",
        "    <tr>\n",
        "      <th>41030</th>\n",
        "      <td>2010-03-01</td>\n",
        "      <td> 35</td>\n",
        "      <td>                         FINGER(S)/THUMB</td>\n",
        "      <td> 340</td>\n",
        "      <td> 2900159</td>\n",
        "      <td> EE was trying to loosen a bolt to remove the l...</td>\n",
        "      <td> 41030</td>\n",
        "    </tr>\n",
        "    <tr>\n",
        "      <th>41031</th>\n",
        "      <td>2012-01-10</td>\n",
        "      <td>  8</td>\n",
        "      <td>                         FINGER(S)/THUMB</td>\n",
        "      <td> 340</td>\n",
        "      <td>  504674</td>\n",
        "      <td> Moving 24-10 915 Eimco out of surface diesel s...</td>\n",
        "      <td> 41031</td>\n",
        "    </tr>\n",
        "    <tr>\n",
        "      <th>41032</th>\n",
        "      <td>2013-04-02</td>\n",
        "      <td> 32</td>\n",
        "      <td>    CHEST (RIBS/BREAST BONE/CHEST ORGNS)</td>\n",
        "      <td> 430</td>\n",
        "      <td>  200843</td>\n",
        "      <td> Employee was washing out the ball chip collect...</td>\n",
        "      <td> 41032</td>\n",
        "    </tr>\n",
        "    <tr>\n",
        "      <th>41033</th>\n",
        "      <td>2011-12-04</td>\n",
        "      <td> 32</td>\n",
        "      <td> SHOULDERS (COLLARBONE/CLAVICLE/SCAPULA)</td>\n",
        "      <td> 450</td>\n",
        "      <td> 2602302</td>\n",
        "      <td> Miner was scaling frozen mud from agglomerator...</td>\n",
        "      <td> 41033</td>\n",
        "    </tr>\n",
        "    <tr>\n",
        "      <th>41034</th>\n",
        "      <td>2012-07-16</td>\n",
        "      <td>  4</td>\n",
        "      <td>                         FINGER(S)/THUMB</td>\n",
        "      <td> 340</td>\n",
        "      <td>  203131</td>\n",
        "      <td> Employee got out of SEC-07 Pickup and inattent...</td>\n",
        "      <td> 41034</td>\n",
        "    </tr>\n",
        "  </tbody>\n",
        "</table>\n",
        "</div>"
       ],
       "metadata": {},
       "output_type": "pyout",
       "prompt_number": 124,
       "text": [
        "      ACCIDENT_DT  FIPS_STATE_CD                            INJ_BODY_PART  \\\n",
        "41030  2010-03-01             35                          FINGER(S)/THUMB   \n",
        "41031  2012-01-10              8                          FINGER(S)/THUMB   \n",
        "41032  2013-04-02             32     CHEST (RIBS/BREAST BONE/CHEST ORGNS)   \n",
        "41033  2011-12-04             32  SHOULDERS (COLLARBONE/CLAVICLE/SCAPULA)   \n",
        "41034  2012-07-16              4                          FINGER(S)/THUMB   \n",
        "\n",
        "       INJ_BODY_PART_CD  MINE_ID  \\\n",
        "41030               340  2900159   \n",
        "41031               340   504674   \n",
        "41032               430   200843   \n",
        "41033               450  2602302   \n",
        "41034               340   203131   \n",
        "\n",
        "                                               NARRATIVE  UNIQUE_ID  \n",
        "41030  EE was trying to loosen a bolt to remove the l...      41030  \n",
        "41031  Moving 24-10 915 Eimco out of surface diesel s...      41031  \n",
        "41032  Employee was washing out the ball chip collect...      41032  \n",
        "41033  Miner was scaling frozen mud from agglomerator...      41033  \n",
        "41034  Employee got out of SEC-07 Pickup and inattent...      41034  "
       ]
      }
     ],
     "prompt_number": 124
    },
    {
     "cell_type": "markdown",
     "metadata": {},
     "source": [
      "# Splitting and Joining DataFrames\n",
      "\n",
      "Subsetting by row"
     ]
    },
    {
     "cell_type": "code",
     "collapsed": false,
     "input": [
      "df_part1 = df[0:10000]\n",
      "df_part2 = df[10000:]\n",
      "\n",
      "print('df_part1 contains the first %s rows' % len(df_part1))\n",
      "print('df_part2 contains the last %s rows' % len(df_part2))"
     ],
     "language": "python",
     "metadata": {},
     "outputs": [
      {
       "output_type": "stream",
       "stream": "stdout",
       "text": [
        "df_part1 contains the first 10000 rows\n",
        "df_part2 contains the last 31035 rows\n"
       ]
      }
     ],
     "prompt_number": 125
    },
    {
     "cell_type": "markdown",
     "metadata": {},
     "source": [
      "Combining dataframes, one on top of the other"
     ]
    },
    {
     "cell_type": "code",
     "collapsed": false,
     "input": [
      "df = pd.concat([df_part1, df_part2])\n",
      "print(len(df))"
     ],
     "language": "python",
     "metadata": {},
     "outputs": [
      {
       "output_type": "stream",
       "stream": "stdout",
       "text": [
        "41035\n"
       ]
      }
     ],
     "prompt_number": 126
    },
    {
     "cell_type": "markdown",
     "metadata": {},
     "source": [
      "Subsetting by column"
     ]
    },
    {
     "cell_type": "code",
     "collapsed": false,
     "input": [
      "df_part_columns = df[['UNIQUE_ID', 'INJ_BODY_PART', 'INJ_BODY_PART_CD', 'NARRATIVE']]\n",
      "df_other_columns = df[['UNIQUE_ID', 'MINE_ID', 'FIPS_STATE_CD', 'ACCIDENT_DT']]\n",
      "\n",
      "df_part_columns.head(2)"
     ],
     "language": "python",
     "metadata": {},
     "outputs": [
      {
       "html": [
        "<div style=\"max-height:1000px;max-width:1500px;overflow:auto;\">\n",
        "<table border=\"1\" class=\"dataframe\">\n",
        "  <thead>\n",
        "    <tr style=\"text-align: right;\">\n",
        "      <th></th>\n",
        "      <th>UNIQUE_ID</th>\n",
        "      <th>INJ_BODY_PART</th>\n",
        "      <th>INJ_BODY_PART_CD</th>\n",
        "      <th>NARRATIVE</th>\n",
        "    </tr>\n",
        "  </thead>\n",
        "  <tbody>\n",
        "    <tr>\n",
        "      <th>0</th>\n",
        "      <td> 0</td>\n",
        "      <td> SHOULDERS (COLLARBONE/CLAVICLE/SCAPULA)</td>\n",
        "      <td> 450</td>\n",
        "      <td> Cleaning out Gabion Grizzly,  Rocks get Jammed...</td>\n",
        "    </tr>\n",
        "    <tr>\n",
        "      <th>1</th>\n",
        "      <td> 1</td>\n",
        "      <td> SHOULDERS (COLLARBONE/CLAVICLE/SCAPULA)</td>\n",
        "      <td> 450</td>\n",
        "      <td> Injured was walking in the pit area, stepped o...</td>\n",
        "    </tr>\n",
        "  </tbody>\n",
        "</table>\n",
        "</div>"
       ],
       "metadata": {},
       "output_type": "pyout",
       "prompt_number": 127,
       "text": [
        "   UNIQUE_ID                            INJ_BODY_PART  INJ_BODY_PART_CD  \\\n",
        "0          0  SHOULDERS (COLLARBONE/CLAVICLE/SCAPULA)               450   \n",
        "1          1  SHOULDERS (COLLARBONE/CLAVICLE/SCAPULA)               450   \n",
        "\n",
        "                                           NARRATIVE  \n",
        "0  Cleaning out Gabion Grizzly,  Rocks get Jammed...  \n",
        "1  Injured was walking in the pit area, stepped o...  "
       ]
      }
     ],
     "prompt_number": 127
    },
    {
     "cell_type": "code",
     "collapsed": false,
     "input": [
      "df_other_columns.head(2)"
     ],
     "language": "python",
     "metadata": {},
     "outputs": [
      {
       "html": [
        "<div style=\"max-height:1000px;max-width:1500px;overflow:auto;\">\n",
        "<table border=\"1\" class=\"dataframe\">\n",
        "  <thead>\n",
        "    <tr style=\"text-align: right;\">\n",
        "      <th></th>\n",
        "      <th>UNIQUE_ID</th>\n",
        "      <th>MINE_ID</th>\n",
        "      <th>FIPS_STATE_CD</th>\n",
        "      <th>ACCIDENT_DT</th>\n",
        "    </tr>\n",
        "  </thead>\n",
        "  <tbody>\n",
        "    <tr>\n",
        "      <th>0</th>\n",
        "      <td> 0</td>\n",
        "      <td> 503800</td>\n",
        "      <td>  8</td>\n",
        "      <td>2010-08-10</td>\n",
        "    </tr>\n",
        "    <tr>\n",
        "      <th>1</th>\n",
        "      <td> 1</td>\n",
        "      <td> 600026</td>\n",
        "      <td> 36</td>\n",
        "      <td>2010-06-09</td>\n",
        "    </tr>\n",
        "  </tbody>\n",
        "</table>\n",
        "</div>"
       ],
       "metadata": {},
       "output_type": "pyout",
       "prompt_number": 128,
       "text": [
        "   UNIQUE_ID  MINE_ID  FIPS_STATE_CD ACCIDENT_DT\n",
        "0          0   503800              8  2010-08-10\n",
        "1          1   600026             36  2010-06-09"
       ]
      }
     ],
     "prompt_number": 128
    },
    {
     "cell_type": "markdown",
     "metadata": {},
     "source": [
      "Merging the columns back together. The merge method accepts a number of arguments including <i>on</i> which is a list that defines the columns on which the two dataframes will be merged. In this case only the column \"UNIQUE_ID\" is needed to match the dataframes, but for BLS data it would not be uncommon to use ['SURVEY_YEAR', 'LDB_NUMBER'] instead."
     ]
    },
    {
     "cell_type": "code",
     "collapsed": false,
     "input": [
      "df = pd.merge(df_part_columns, df_other_columns, on=['UNIQUE_ID'])\n",
      "df.head(5)"
     ],
     "language": "python",
     "metadata": {},
     "outputs": [
      {
       "html": [
        "<div style=\"max-height:1000px;max-width:1500px;overflow:auto;\">\n",
        "<table border=\"1\" class=\"dataframe\">\n",
        "  <thead>\n",
        "    <tr style=\"text-align: right;\">\n",
        "      <th></th>\n",
        "      <th>UNIQUE_ID</th>\n",
        "      <th>INJ_BODY_PART</th>\n",
        "      <th>INJ_BODY_PART_CD</th>\n",
        "      <th>NARRATIVE</th>\n",
        "      <th>MINE_ID</th>\n",
        "      <th>FIPS_STATE_CD</th>\n",
        "      <th>ACCIDENT_DT</th>\n",
        "    </tr>\n",
        "  </thead>\n",
        "  <tbody>\n",
        "    <tr>\n",
        "      <th>0</th>\n",
        "      <td> 0</td>\n",
        "      <td> SHOULDERS (COLLARBONE/CLAVICLE/SCAPULA)</td>\n",
        "      <td> 450</td>\n",
        "      <td> Cleaning out Gabion Grizzly,  Rocks get Jammed...</td>\n",
        "      <td>  503800</td>\n",
        "      <td>  8</td>\n",
        "      <td>2010-08-10</td>\n",
        "    </tr>\n",
        "    <tr>\n",
        "      <th>1</th>\n",
        "      <td> 1</td>\n",
        "      <td> SHOULDERS (COLLARBONE/CLAVICLE/SCAPULA)</td>\n",
        "      <td> 450</td>\n",
        "      <td> Injured was walking in the pit area, stepped o...</td>\n",
        "      <td>  600026</td>\n",
        "      <td> 36</td>\n",
        "      <td>2010-06-09</td>\n",
        "    </tr>\n",
        "    <tr>\n",
        "      <th>2</th>\n",
        "      <td> 2</td>\n",
        "      <td>   HIPS (PELVIS/ORGANS/KIDNEYS/BUTTOCKS)</td>\n",
        "      <td> 440</td>\n",
        "      <td> Employee, parked s/c on grade at 16-Block #3 E...</td>\n",
        "      <td> 1800761</td>\n",
        "      <td> 24</td>\n",
        "      <td>2012-08-20</td>\n",
        "    </tr>\n",
        "    <tr>\n",
        "      <th>3</th>\n",
        "      <td> 3</td>\n",
        "      <td>                                   ANKLE</td>\n",
        "      <td> 520</td>\n",
        "      <td> Contractor employee working as a carpenter mis...</td>\n",
        "      <td>  200024</td>\n",
        "      <td>  4</td>\n",
        "      <td>2013-10-29</td>\n",
        "    </tr>\n",
        "    <tr>\n",
        "      <th>4</th>\n",
        "      <td> 4</td>\n",
        "      <td>                         FINGER(S)/THUMB</td>\n",
        "      <td> 340</td>\n",
        "      <td> The employee's finger was pinched between the ...</td>\n",
        "      <td> 2602512</td>\n",
        "      <td> 32</td>\n",
        "      <td>2011-11-19</td>\n",
        "    </tr>\n",
        "  </tbody>\n",
        "</table>\n",
        "</div>"
       ],
       "metadata": {},
       "output_type": "pyout",
       "prompt_number": 129,
       "text": [
        "   UNIQUE_ID                            INJ_BODY_PART  INJ_BODY_PART_CD  \\\n",
        "0          0  SHOULDERS (COLLARBONE/CLAVICLE/SCAPULA)               450   \n",
        "1          1  SHOULDERS (COLLARBONE/CLAVICLE/SCAPULA)               450   \n",
        "2          2    HIPS (PELVIS/ORGANS/KIDNEYS/BUTTOCKS)               440   \n",
        "3          3                                    ANKLE               520   \n",
        "4          4                          FINGER(S)/THUMB               340   \n",
        "\n",
        "                                           NARRATIVE  MINE_ID  FIPS_STATE_CD  \\\n",
        "0  Cleaning out Gabion Grizzly,  Rocks get Jammed...   503800              8   \n",
        "1  Injured was walking in the pit area, stepped o...   600026             36   \n",
        "2  Employee, parked s/c on grade at 16-Block #3 E...  1800761             24   \n",
        "3  Contractor employee working as a carpenter mis...   200024              4   \n",
        "4  The employee's finger was pinched between the ...  2602512             32   \n",
        "\n",
        "  ACCIDENT_DT  \n",
        "0  2010-08-10  \n",
        "1  2010-06-09  \n",
        "2  2012-08-20  \n",
        "3  2013-10-29  \n",
        "4  2011-11-19  "
       ]
      }
     ],
     "prompt_number": 129
    },
    {
     "cell_type": "markdown",
     "metadata": {},
     "source": [
      "# Working with columns\n",
      "\n",
      "We can refer to a single column in a dataframe using the syntax <i>df[\"column_name\"]</i>. For example, to examine just the 'NARRATIVE' column:"
     ]
    },
    {
     "cell_type": "code",
     "collapsed": false,
     "input": [
      "df['NARRATIVE'].head()"
     ],
     "language": "python",
     "metadata": {},
     "outputs": [
      {
       "metadata": {},
       "output_type": "pyout",
       "prompt_number": 130,
       "text": [
        "0    Cleaning out Gabion Grizzly,  Rocks get Jammed...\n",
        "1    Injured was walking in the pit area, stepped o...\n",
        "2    Employee, parked s/c on grade at 16-Block #3 E...\n",
        "3    Contractor employee working as a carpenter mis...\n",
        "4    The employee's finger was pinched between the ...\n",
        "Name: NARRATIVE, dtype: object"
       ]
      }
     ],
     "prompt_number": 130
    },
    {
     "cell_type": "markdown",
     "metadata": {},
     "source": [
      "# Adding columns\n",
      "\n",
      "Previously, we created a simple function that determines whether a narrative refers to a foot injury or not. It looked something like this:"
     ]
    },
    {
     "cell_type": "code",
     "collapsed": false,
     "input": [
      "import re\n",
      "\n",
      "def foot_or_not(narrative):\n",
      "    narrative = narrative.lower()\n",
      "    words = re.findall('\\w+', narrative)\n",
      "    if 'foot' in words:\n",
      "        return True\n",
      "    elif 'feet' in words:\n",
      "        return True\n",
      "    else:\n",
      "        return False"
     ],
     "language": "python",
     "metadata": {},
     "outputs": [],
     "prompt_number": 131
    },
    {
     "cell_type": "markdown",
     "metadata": {},
     "source": [
      "To add a new column to our dataframe that results from applying this function to each individual narrative we can do the following:"
     ]
    },
    {
     "cell_type": "code",
     "collapsed": false,
     "input": [
      "df['FOOT_INJURY'] = df['NARRATIVE'].apply(foot_or_not)"
     ],
     "language": "python",
     "metadata": {},
     "outputs": [],
     "prompt_number": 132
    },
    {
     "cell_type": "code",
     "collapsed": false,
     "input": [
      "df.head()"
     ],
     "language": "python",
     "metadata": {},
     "outputs": [
      {
       "html": [
        "<div style=\"max-height:1000px;max-width:1500px;overflow:auto;\">\n",
        "<table border=\"1\" class=\"dataframe\">\n",
        "  <thead>\n",
        "    <tr style=\"text-align: right;\">\n",
        "      <th></th>\n",
        "      <th>UNIQUE_ID</th>\n",
        "      <th>INJ_BODY_PART</th>\n",
        "      <th>INJ_BODY_PART_CD</th>\n",
        "      <th>NARRATIVE</th>\n",
        "      <th>MINE_ID</th>\n",
        "      <th>FIPS_STATE_CD</th>\n",
        "      <th>ACCIDENT_DT</th>\n",
        "      <th>FOOT_INJURY</th>\n",
        "    </tr>\n",
        "  </thead>\n",
        "  <tbody>\n",
        "    <tr>\n",
        "      <th>0</th>\n",
        "      <td> 0</td>\n",
        "      <td> SHOULDERS (COLLARBONE/CLAVICLE/SCAPULA)</td>\n",
        "      <td> 450</td>\n",
        "      <td> Cleaning out Gabion Grizzly,  Rocks get Jammed...</td>\n",
        "      <td>  503800</td>\n",
        "      <td>  8</td>\n",
        "      <td>2010-08-10</td>\n",
        "      <td> False</td>\n",
        "    </tr>\n",
        "    <tr>\n",
        "      <th>1</th>\n",
        "      <td> 1</td>\n",
        "      <td> SHOULDERS (COLLARBONE/CLAVICLE/SCAPULA)</td>\n",
        "      <td> 450</td>\n",
        "      <td> Injured was walking in the pit area, stepped o...</td>\n",
        "      <td>  600026</td>\n",
        "      <td> 36</td>\n",
        "      <td>2010-06-09</td>\n",
        "      <td>  True</td>\n",
        "    </tr>\n",
        "    <tr>\n",
        "      <th>2</th>\n",
        "      <td> 2</td>\n",
        "      <td>   HIPS (PELVIS/ORGANS/KIDNEYS/BUTTOCKS)</td>\n",
        "      <td> 440</td>\n",
        "      <td> Employee, parked s/c on grade at 16-Block #3 E...</td>\n",
        "      <td> 1800761</td>\n",
        "      <td> 24</td>\n",
        "      <td>2012-08-20</td>\n",
        "      <td> False</td>\n",
        "    </tr>\n",
        "    <tr>\n",
        "      <th>3</th>\n",
        "      <td> 3</td>\n",
        "      <td>                                   ANKLE</td>\n",
        "      <td> 520</td>\n",
        "      <td> Contractor employee working as a carpenter mis...</td>\n",
        "      <td>  200024</td>\n",
        "      <td>  4</td>\n",
        "      <td>2013-10-29</td>\n",
        "      <td> False</td>\n",
        "    </tr>\n",
        "    <tr>\n",
        "      <th>4</th>\n",
        "      <td> 4</td>\n",
        "      <td>                         FINGER(S)/THUMB</td>\n",
        "      <td> 340</td>\n",
        "      <td> The employee's finger was pinched between the ...</td>\n",
        "      <td> 2602512</td>\n",
        "      <td> 32</td>\n",
        "      <td>2011-11-19</td>\n",
        "      <td> False</td>\n",
        "    </tr>\n",
        "  </tbody>\n",
        "</table>\n",
        "</div>"
       ],
       "metadata": {},
       "output_type": "pyout",
       "prompt_number": 133,
       "text": [
        "   UNIQUE_ID                            INJ_BODY_PART  INJ_BODY_PART_CD  \\\n",
        "0          0  SHOULDERS (COLLARBONE/CLAVICLE/SCAPULA)               450   \n",
        "1          1  SHOULDERS (COLLARBONE/CLAVICLE/SCAPULA)               450   \n",
        "2          2    HIPS (PELVIS/ORGANS/KIDNEYS/BUTTOCKS)               440   \n",
        "3          3                                    ANKLE               520   \n",
        "4          4                          FINGER(S)/THUMB               340   \n",
        "\n",
        "                                           NARRATIVE  MINE_ID  FIPS_STATE_CD  \\\n",
        "0  Cleaning out Gabion Grizzly,  Rocks get Jammed...   503800              8   \n",
        "1  Injured was walking in the pit area, stepped o...   600026             36   \n",
        "2  Employee, parked s/c on grade at 16-Block #3 E...  1800761             24   \n",
        "3  Contractor employee working as a carpenter mis...   200024              4   \n",
        "4  The employee's finger was pinched between the ...  2602512             32   \n",
        "\n",
        "  ACCIDENT_DT FOOT_INJURY  \n",
        "0  2010-08-10       False  \n",
        "1  2010-06-09        True  \n",
        "2  2012-08-20       False  \n",
        "3  2013-10-29       False  \n",
        "4  2011-11-19       False  "
       ]
      }
     ],
     "prompt_number": 133
    },
    {
     "cell_type": "markdown",
     "metadata": {},
     "source": [
      "# Converting DataFrames to other outputs"
     ]
    },
    {
     "cell_type": "code",
     "collapsed": false,
     "input": [
      "# save DataFrame as a CSV file\n",
      "df.to_csv('coded_MSHA.csv')\n",
      "\n",
      "# save DataFrame as a tab delimited CSV file\n",
      "df.to_csv('coded_MSHA.tsv', sep='\\t')\n",
      "\n",
      "# save DataFrame as an Excel file\n",
      "df.to_excel('coded_MSHA.xlsx')"
     ],
     "language": "python",
     "metadata": {},
     "outputs": [],
     "prompt_number": 136
    },
    {
     "cell_type": "markdown",
     "metadata": {},
     "source": [
      "We can also convert DataFrames to a list of dictionaries.\n"
     ]
    },
    {
     "cell_type": "code",
     "collapsed": false,
     "input": [
      "import pprint\n",
      "\n",
      "rows = df.to_dict(outtype='records')\n",
      "\n",
      "# pprint is like print but it formats the output to be more readable\n",
      "pprint.pprint(rows[0:3])"
     ],
     "language": "python",
     "metadata": {},
     "outputs": [
      {
       "output_type": "stream",
       "stream": "stdout",
       "text": [
        "[{u'ACCIDENT_DT': Timestamp('2010-08-10 00:00:00'),\n",
        "  u'FIPS_STATE_CD': 8L,\n",
        "  'FOOT_INJURY': False,\n",
        "  u'INJ_BODY_PART': u'SHOULDERS (COLLARBONE/CLAVICLE/SCAPULA)',\n",
        "  u'INJ_BODY_PART_CD': 450L,\n",
        "  u'MINE_ID': 503800L,\n",
        "  u'NARRATIVE': u'Cleaning out Gabion Grizzly,  Rocks get Jammed and emplyee has to either pry or push the rocks out of the grizzly.  Employee was using a sledge hammer to get the rocks lose and pulled something in his right shoulder.',\n",
        "  'UNIQUE_ID': 0L},\n",
        " {u'ACCIDENT_DT': Timestamp('2010-06-09 00:00:00'),\n",
        "  u'FIPS_STATE_CD': 36L,\n",
        "  'FOOT_INJURY': True,\n",
        "  u'INJ_BODY_PART': u'SHOULDERS (COLLARBONE/CLAVICLE/SCAPULA)',\n",
        "  u'INJ_BODY_PART_CD': 450L,\n",
        "  u'MINE_ID': 600026L,\n",
        "  u'NARRATIVE': u'Injured was walking in the pit area, stepped over a fallen tree branch, foot landed on a rock that then split in two, causing him to lose footing and fall to the ground onto his left shoulder causing a left shoulder injury.',\n",
        "  'UNIQUE_ID': 1L},\n",
        " {u'ACCIDENT_DT': Timestamp('2012-08-20 00:00:00'),\n",
        "  u'FIPS_STATE_CD': 24L,\n",
        "  'FOOT_INJURY': False,\n",
        "  u'INJ_BODY_PART': u'HIPS (PELVIS/ORGANS/KIDNEYS/BUTTOCKS)',\n",
        "  u'INJ_BODY_PART_CD': 440L,\n",
        "  u'MINE_ID': 1800761L,\n",
        "  u'NARRATIVE': u\"Employee, parked s/c on grade at 16-Block #3 Entry Spad #3868. S/c slid approx. 3' pinning oper. between s/c & rib, employee had set park brake and got off machine to move roof bolter cable.\",\n",
        "  'UNIQUE_ID': 2L}]\n"
       ]
      }
     ],
     "prompt_number": 142
    }
   ],
   "metadata": {}
  }
 ]
}